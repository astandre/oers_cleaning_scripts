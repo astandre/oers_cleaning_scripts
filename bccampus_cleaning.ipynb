{
 "cells": [
  {
   "cell_type": "markdown",
   "metadata": {
    "collapsed": true,
    "pycharm": {
     "name": "#%% md\n"
    }
   },
   "source": [
    "# Setting up conection "
   ]
  },
  {
   "cell_type": "code",
   "execution_count": 12,
   "outputs": [
    {
     "name": "stdout",
     "text": [
      "Ready DB\n"
     ],
     "output_type": "stream"
    }
   ],
   "source": [
    "from sqlalchemy import create_engine, MetaData, Table\n",
    "from sqlalchemy.orm import mapper, sessionmaker\n",
    "from sqlalchemy import Column, Integer\n",
    "from sqlalchemy.ext.declarative import declarative_base\n",
    "from scrapy.selector import Selector\n",
    "from sqlalchemy.sql import text as sa_text\n",
    "import re\n",
    "\n",
    "engine = create_engine('mysql+pymysql://root:@localhost/oerintegrationdb', echo=False)\n",
    "Base = declarative_base(engine)\n",
    "\n",
    "\n",
    "class Triple(Base):\n",
    "    __tablename__ = 'triple'\n",
    "    __table_args__ = {'autoload': True}\n",
    "\n",
    "\n",
    "class CleanTriple(Base):\n",
    "    __tablename__ = 'cleantriple'\n",
    "    __table_args__ = {'autoload': True}\n",
    "\n",
    "metadata = Base.metadata\n",
    "Session = sessionmaker(bind=engine)\n",
    "session = Session()\n",
    "\n",
    "print(\"Ready DB\")"
   ],
   "metadata": {
    "collapsed": false,
    "pycharm": {
     "name": "#%% \n",
     "is_executing": false
    }
   }
  },
  {
   "cell_type": "code",
   "execution_count": 13,
   "outputs": [
    {
     "name": "stdout",
     "text": [
      "Cleaned\n"
     ],
     "output_type": "stream"
    }
   ],
   "source": [
    "triples = session.query(Triple).filter(Triple.subject==\"open bccampus \")\n",
    "engine.execute(sa_text('''TRUNCATE TABLE cleantriple''').execution_options(autocommit=True))\n",
    "print(\"Cleaned\")"
   ],
   "metadata": {
    "collapsed": false,
    "pycharm": {
     "name": "#%%\n",
     "is_executing": false
    }
   }
  },
  {
   "cell_type": "code",
   "execution_count": 14,
   "outputs": [
    {
     "name": "stdout",
     "text": [
      "Done\n"
     ],
     "output_type": "stream"
    }
   ],
   "source": [
    "source = \"open bccampus\"\n",
    "session.add(CleanTriple(subject=source, predicate=\"hasName\", object=source))\n",
    "for triple in triples:\n",
    "    # print(triple.subject)\n",
    "    body = triple.object\n",
    "    # Setting name\n",
    "    name = Selector(text=body).xpath(\"//h2[@itemprop='name']/text()\").get()\n",
    "    # print(name)\n",
    "    session.add(CleanTriple(subject=source, predicate=\"hasBook\", object=name))\n",
    "    session.add(CleanTriple(subject=name, predicate=\"hasName\", object=name))\n",
    "    \n",
    "    about = Selector(text=body).xpath(\"//span[@itemprop='description']/text()\").get()\n",
    "    if about is not None and len(about)>1:\n",
    "        session.add(CleanTriple(subject=name, predicate=\"hasAbout\", object=about))\n",
    "    \n",
    "    meta = Selector(text=body).xpath(\"//p[@class='text-muted']/text()\").getall()\n",
    "    # print(meta)\n",
    "    if meta is not None and len(about)>2:\n",
    "        posted = meta[0]\n",
    "        updated = meta[1]\n",
    "        session.add(CleanTriple(subject=name, predicate=\"postedIn\", object=posted))\n",
    "        session.add(CleanTriple(subject=name, predicate=\"updatedIn\", object=updated))\n",
    "        \n",
    "    authors = Selector(text=body).xpath(\"//span[@itemprop='author copyrightHolder']/text()\").get()\n",
    "    # print(authors)\n",
    "    if authors is not None:\n",
    "        authors  = authors.split(\",\")\n",
    "        if len(authors)%2 == 0:\n",
    "            cont = int(len(authors)/2)\n",
    "            # print(len(authors))\n",
    "            for i in range(0,cont):\n",
    "                author = authors[0+i*2]\n",
    "                institute = authors[1+i*2]\n",
    "                # print(author, \" \", institute)\n",
    "                session.add(CleanTriple(subject=name, predicate=\"hasAuthor\", object=author))\n",
    "                session.add(CleanTriple(subject=author, predicate=\"hasAffiliation\", object=institute))\n",
    "                # i += 2\n",
    "            # for author in authors:\n",
    "            #     print(author)\n",
    "        else:\n",
    "             session.add(CleanTriple(subject=name, predicate=\"hasAuthor\", object=authors[0]))\n",
    "    \n",
    "    \n",
    "    image = Selector(text=body).xpath(\"//img[@alt='textbook cover image']/@src\").get()\n",
    "    # print(image)\n",
    "    if image is not None and len(about)>1:\n",
    "        session.add(CleanTriple(subject=name, predicate=\"hasImage\", object=image))\n",
    "    \n",
    "    \n",
    "    subject_areas = Selector(text=body).xpath(\"//div[@class='col-sm-8']/p[2]/a/text()\").getall()\n",
    "    # print(image)\n",
    "    if subject_areas is not None:\n",
    "        for area in subject_areas:\n",
    "            # print(area)\n",
    "            session.add(CleanTriple(subject=name, predicate=\"hasSubjectArea\", object=area))\n",
    "    \n",
    "     \n",
    "    original_source = Selector(text=body).xpath(\"//div[@class='col-sm-8']/p[3]/a/text()\").get()\n",
    "    original_source_link = Selector(text=body).xpath(\"//div[@class='col-sm-8']/p[3]/a/@href\").get()\n",
    "    # print(original_source)\n",
    "    # print(original_source_link)\n",
    "    if original_source is not None and original_source_link is not None:\n",
    "        session.add(CleanTriple(subject=name, predicate=\"originalSource\", object=original_source))\n",
    "        session.add(CleanTriple(subject=original_source, predicate=\"hasLink\", object=original_source_link))\n",
    "        \n",
    "    adoption = Selector(text=body).xpath(\"//div[@class='col-sm-8']/p[4]/a/@href\").get()\n",
    "    if adoption is not None :\n",
    "        # print(adoption)\n",
    "        session.add(CleanTriple(subject=name, predicate=\"hasAdoption\", object=\"https://open.bccampus.ca\"+adoption))\n",
    "    \n",
    "    adaptation = Selector(text=body).xpath(\"//div[@class='col-sm-8']/p[5]/a/@href\").get()\n",
    "    if adaptation is not None :\n",
    "        # print(adaptation)\n",
    "        session.add(CleanTriple(subject=name, predicate=\"hasAdaptation\", object=\"https://open.bccampus.ca\"+adaptation))\n",
    "        \n",
    "    help_link = Selector(text=body).xpath(\"//div[@class='col-sm-8']/p[6]/a/@href\").get()\n",
    "    if help_link is not None :\n",
    "        # print(help_link)\n",
    "        session.add(CleanTriple(subject=name, predicate=\"hasHelpLink\", object=\"https://open.bccampus.ca\"+help_link))\n",
    "    \n",
    "    \n",
    "    accesibility_link = Selector(text=body).xpath(\"//div[@class='col-sm-8']/p[7]/a/@href\").get()\n",
    "    if accesibility_link is not None :\n",
    "        # print(help_link)\n",
    "        session.add(CleanTriple(subject=name, predicate=\"hasAccessibility\", object=accesibility_link))     \n",
    "    \n",
    "    \n",
    "    license = Selector(text=body).xpath(\"//p[@class='text-muted']/a[2]/@href\").get()\n",
    "    if license is not None :\n",
    "        # print(license)\n",
    "        session.add(CleanTriple(subject=name, predicate=\"hasLicense\", object=license))\n",
    "    \n",
    "    similar_books = Selector(text=body).xpath(\"//section[@class='bkgd-grey-light d-flex flex-row flex-wrap full-width py-3 mt-3']/article/p/a/text()\").getall()\n",
    "    # print(image)\n",
    "    if similar_books is not None:\n",
    "        for book in similar_books:\n",
    "            # print(area)\n",
    "            session.add(CleanTriple(subject=name, predicate=\"hasSimilarBook\", object=book))\n",
    "    \n",
    "    pdf_link  = Selector(text=body).xpath(\"//a[@title='Digital PDF']/@href\").get()\n",
    "    if pdf_link is not None :\n",
    "        # print(pdf_link)\n",
    "        session.add(CleanTriple(subject=name, predicate=\"pdfAvailableAt\", object=pdf_link)) \n",
    "    \n",
    "    site_link  = Selector(text=body).xpath(\"//a[@title='Read this book online']/@href\").get()\n",
    "    if site_link is not None :\n",
    "        # print(site_link)\n",
    "        session.add(CleanTriple(subject=name, predicate=\"siteAvailableAt\", object=site_link))\n",
    "    \n",
    "\n",
    "print(\"Done\")     \n",
    "session.commit()\n"
   ],
   "metadata": {
    "collapsed": false,
    "pycharm": {
     "name": "#%%\n",
     "is_executing": false
    }
   }
  }
 ],
 "metadata": {
  "language_info": {
   "codemirror_mode": {
    "name": "ipython",
    "version": 2
   },
   "file_extension": ".py",
   "mimetype": "text/x-python",
   "name": "python",
   "nbconvert_exporter": "python",
   "pygments_lexer": "ipython2",
   "version": "2.7.6"
  },
  "kernelspec": {
   "name": "python3",
   "language": "python",
   "display_name": "Python 3"
  },
  "pycharm": {
   "stem_cell": {
    "cell_type": "raw",
    "source": [],
    "metadata": {
     "collapsed": false
    }
   }
  }
 },
 "nbformat": 4,
 "nbformat_minor": 0
}