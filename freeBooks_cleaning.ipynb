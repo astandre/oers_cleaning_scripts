{
 "cells": [
  {
   "cell_type": "code",
   "execution_count": 17,
   "outputs": [
    {
     "name": "stdout",
     "text": [
      "Ready DB\n"
     ],
     "output_type": "stream"
    }
   ],
   "source": [
    "from sqlalchemy import create_engine, MetaData, Table\n",
    "from sqlalchemy.orm import mapper, sessionmaker\n",
    "from sqlalchemy import Column, Integer\n",
    "from sqlalchemy.ext.declarative import declarative_base\n",
    "from scrapy.selector import Selector\n",
    "from sqlalchemy.sql import text as sa_text\n",
    "import re\n",
    "\n",
    "engine = create_engine('mysql+pymysql://root:@localhost/oerintegrationdb', echo=False)\n",
    "Base = declarative_base(engine)\n",
    "\n",
    "\n",
    "class Triple(Base):\n",
    "    __tablename__ = 'triple'\n",
    "    __table_args__ = {'autoload': True}\n",
    "\n",
    "\n",
    "class CleanTriple(Base):\n",
    "    __tablename__ = 'cleantriple'\n",
    "    __table_args__ = {'autoload': True}\n",
    "\n",
    "metadata = Base.metadata\n",
    "Session = sessionmaker(bind=engine)\n",
    "session = Session()\n",
    "\n",
    "print(\"Ready DB\")"
   ],
   "metadata": {
    "collapsed": false,
    "pycharm": {
     "name": "#%% Setting Db conection\n",
     "is_executing": false
    }
   }
  },
  {
   "cell_type": "code",
   "source": [
    "triples = session.query(Triple).filter(Triple.subject==\"opentextbooks\")\n",
    "#engine.execute(sa_text('''TRUNCATE TABLE cleantriple''').execution_options(autocommit=True))\n",
    "\n",
    "print(\"Cleaned\")"
   ],
   "metadata": {
    "collapsed": false,
    "pycharm": {
     "name": "#%%\n",
     "is_executing": false
    }
   },
   "execution_count": 18,
   "outputs": [
    {
     "name": "stdout",
     "text": [
      "Cleaned\n"
     ],
     "output_type": "stream"
    }
   ]
  },
  {
   "cell_type": "markdown",
   "source": [
    "# Get all information of courses"
   ],
   "metadata": {
    "collapsed": false
   }
  },
  {
   "cell_type": "code",
   "source": [
    "source_raw = \"OpenTextBooks\"\n",
    "session.add(CleanTriple(subject_uri=\"https://open.umn.edu/opentextbooks/\", subject_id=source_raw, predicate=\"hasName\", object=source_raw))\n",
    "session.add(CleanTriple(subject_uri=\"https://open.umn.edu/opentextbooks/\",subject_id=source_raw, predicate=\"isA\", object=\"Site\"))\n",
    "session.add(CleanTriple(subject_uri=\"https://open.umn.edu/opentextbooks/\", subject_id=source_raw, predicate=\"hasSiteLink\", object=\"https://open.umn.edu/opentextbooks/\"))\n",
    "\n",
    "for triple in triples:\n",
    "    # print(triple.subject_id)\n",
    "    source = triple.source\n",
    "    # print(source)\n",
    "    body = triple.object\n",
    "    # Setting name\n",
    "    name = Selector(text=body).xpath('//div[@class=\"twothird\"]/h1/text()').get()\n",
    "    name_triple =  name.replace(\" \", \"\")\n",
    "    name_triple =  name_triple.replace(\"/\", \"\")\n",
    "    name_triple =  name_triple.replace(\":\", \"\")\n",
    "    session.add(CleanTriple(subject_uri=source ,subject_id=source_raw, predicate=\"hasBook\", object=name))\n",
    "    session.add(CleanTriple(subject_uri=source ,subject_id=name_triple, predicate=\"hasTitle\", object=name))\n",
    "    session.add(CleanTriple(subject_uri=source ,subject_id=name_triple, predicate=\"materialType\", object=\"Book\"))\n",
    "    session.add(CleanTriple(subject_uri=source ,subject_id=name_triple, predicate=\"hasSourceLink\", object=triple.source))\n",
    "\n",
    "    # print(\"name \", name)\n",
    "    # Setting about\n",
    "    about = Selector(text=body).xpath('//div[@id=\"AboutBook\"]/p/text()').get()\n",
    "    if about is not None and len(about)>1:\n",
    "        session.add(CleanTriple(subject_uri=source ,subject_id=name_triple, predicate=\"hasAbout\", object=about))\n",
    "    \n",
    "    pub_date = Selector(text=body).xpath('//div[@class=\"twothird\"]/p[starts-with(text(),\"Pub Date\")]/text()').get()\n",
    "    if pub_date is not None and len(pub_date)>1:\n",
    "        pub_date= pub_date[pub_date.find(\":\")+1:]\n",
    "        session.add(CleanTriple(subject_uri=source ,subject_id=name_triple, predicate=\"publicationDate\", object=pub_date)) \n",
    "    contents = Selector(text=body).xpath('//div[@id=\"TOC\"]/ul/li/text()').getall()\n",
    "    cont = 0\n",
    "    for content in contents:\n",
    "        cont+=1\n",
    "        new_name = name_triple +\"-\" +str(cont)\n",
    "        session.add(CleanTriple(subject_uri=source ,subject_id=name_triple, predicate=\"hasChapter\", object=new_name))\n",
    "        # print(new_name)\n",
    "        if content is not None and len(content)>1:\n",
    "            session.add(CleanTriple(subject_uri=source ,subject_id=new_name, predicate=\"chapterName\", object=content))\n",
    "            session.add(CleanTriple(subject_uri=source ,subject_id=new_name, predicate=\"chapterOrder\", object=cont))\n",
    "    \n",
    "    authors = Selector(text=body).xpath('//div[@id=\"AboutContributors\"]/p/strong/text()').getall()\n",
    "    for author in authors:\n",
    "        # print(author)\n",
    "        if author is not None and len(author)>1:\n",
    "            session.add(CleanTriple(subject_uri=source ,subject_id=name_triple, predicate=\"hasAuthor\", object=author))\n",
    "    \n",
    "    language = Selector(text=body).xpath('//div[@class=\"twothird\"]/p[starts-with(text(),\"Language\")]/text()').get()\n",
    "    if language is not None and len(language)>1:\n",
    "        language = language[language.find(\":\")+1:]\n",
    "        # print(language)\n",
    "        session.add(CleanTriple(subject_uri=source ,subject_id=name_triple, predicate=\"hasLanguage\", object=language)) \n",
    "    \n",
    "    link = Selector(text=body).xpath('//ul[@class=\"BookTypes\"]/li/a/@href').get()\n",
    "    if link is not None and len(link)>1:\n",
    "        # print(link)\n",
    "        session.add(CleanTriple(subject_uri=source ,subject_id=name_triple, predicate=\"hasLink\", object=link)) \n",
    "    \n",
    "    stars = Selector(text=body).xpath('count(//div[@class=\"twothird\"]/p[2]/img[@title=\"whole star\"])').get()\n",
    "    if stars is not None and len(stars)>1:\n",
    "        # print(stars)\n",
    "        session.add(CleanTriple(subject_uri=source ,subject_id=name_triple, predicate=\"hasStars\", object=stars)) \n",
    "        \n",
    "    isbn = Selector(text=body).xpath('//div[@class=\"twothird\"]/p[starts-with(text(),\"ISBN\")]/text()').get()\n",
    "    if isbn is not None and len(isbn)>1:\n",
    "        isbn = isbn[isbn.find(\":\")+1:]\n",
    "        # print(isbn)\n",
    "        session.add(CleanTriple(subject_uri=source ,subject_id=name_triple, predicate=\"hasISBN\", object=isbn)) \n",
    "    \n",
    "    attribution = Selector(text=body).xpath('//p[@class=\"Badge-Condition\"]/a/text()').get()\n",
    "    if attribution is not None and len(attribution)>1:\n",
    "        # print(attribution)\n",
    "        session.add(CleanTriple(subject_uri=source ,subject_id=name_triple, predicate=\"hasAttribution\", object=attribution))\n",
    "        \n",
    "    license = Selector(text=body).xpath('//p[@class=\"Badge-Condition\"]/text()').getall()\n",
    "    # print(license)\n",
    "    if license is not None and len(license)==3:\n",
    "        license = re.sub('\\n+', '', license[2])\n",
    "        license = license[license.index(\"C\"):]\n",
    "        # print(license)\n",
    "        session.add(CleanTriple(subject_uri=source ,subject_id=name_triple, predicate=\"hasLicense\", object=license))\n",
    "    \n",
    "    \n",
    "    reviews = Selector(text=body).xpath('//div[starts-with(@id,\"read\")]').getall()\n",
    "    \n",
    "    review_cont = 0\n",
    "\n",
    "    for review in reviews:\n",
    "        review_cont += 1\n",
    "        new_name = name_triple +\"-review-\" +str(review_cont)\n",
    "        session.add(CleanTriple(subject_uri=source ,subject_id=name_triple, predicate=\"hasReview\", object=new_name))\n",
    "        # print(review)\n",
    "        review_meta = Selector(text=review).xpath('//div[starts-with(@id,\"read\")]/p[2]/reviewer/text()').get()\n",
    "        # print(review_meta)\n",
    "        name = review_meta[review_meta.find(\"y\")+2:review_meta.find(\",\")]\n",
    "        # print(name)\n",
    "        date = review_meta[review_meta.find(\" on \")+4:]\n",
    "        # print(date)\n",
    "        review_text = Selector(text=review).xpath('//div[starts-with(@id,\"read\")]/p[3]/text()').get()\n",
    "        # print(review_text) \n",
    "        stars = Selector(text=review).xpath('count(//div[starts-with(@id,\"read\")]/p[1]/img[@title=\"whole star\"])').get()\n",
    "        # print(stars)\n",
    "        session.add(CleanTriple(subject_uri=source ,subject_id=new_name, predicate=\"hasName\", object=name))\n",
    "        session.add(CleanTriple(subject_uri=source ,subject_id=new_name, predicate=\"hasDate\", object=date))\n",
    "        session.add(CleanTriple(subject_uri=source ,subject_id=new_name, predicate=\"hasReview\", object=review_text))\n",
    "        session.add(CleanTriple(subject_uri=source ,subject_id=new_name, predicate=\"hasStars\", object=stars))\n",
    "         \n",
    "    image = Selector(text=body).xpath('//div[@class=\"third\"]/img/@src').get()\n",
    "    # print(license)\n",
    "    if image is not None and len(image)>0: \n",
    "        image =  \"https://open.umn.edu\" +image\n",
    "        session.add(CleanTriple(subject_uri=source ,subject_id=name_triple, predicate=\"hasImage\", object=image))\n",
    "\n",
    "print(\"Done\")     \n",
    "session.commit()\n",
    "\n"
   ],
   "metadata": {
    "collapsed": false,
    "pycharm": {
     "name": "#%%\n",
     "is_executing": false
    }
   },
   "execution_count": 19,
   "outputs": [
    {
     "name": "stderr",
     "text": [
      "Exception during reset or similar\nTraceback (most recent call last):\n  File \"c:\\users\\andre\\documents\\pythontutos\\oers\\venv\\lib\\site-packages\\pymysql\\connections.py\", line 713, in _write_bytes\n    self._sock.sendall(data)\nConnectionResetError: [WinError 10054] Se ha forzado la interrupción de una conexión existente por el host remoto\n\nDuring handling of the above exception, another exception occurred:\n\nTraceback (most recent call last):\n  File \"c:\\users\\andre\\documents\\pythontutos\\oers\\venv\\lib\\site-packages\\sqlalchemy\\pool\\base.py\", line 680, in _finalize_fairy\n    fairy._reset(pool)\n  File \"c:\\users\\andre\\documents\\pythontutos\\oers\\venv\\lib\\site-packages\\sqlalchemy\\pool\\base.py\", line 867, in _reset\n    pool._dialect.do_rollback(self)\n  File \"c:\\users\\andre\\documents\\pythontutos\\oers\\venv\\lib\\site-packages\\sqlalchemy\\dialects\\mysql\\base.py\", line 2251, in do_rollback\n    dbapi_connection.rollback()\n  File \"c:\\users\\andre\\documents\\pythontutos\\oers\\venv\\lib\\site-packages\\pymysql\\connections.py\", line 429, in rollback\n    self._execute_command(COMMAND.COM_QUERY, \"ROLLBACK\")\n  File \"c:\\users\\andre\\documents\\pythontutos\\oers\\venv\\lib\\site-packages\\pymysql\\connections.py\", line 771, in _execute_command\n    self._write_bytes(packet)\n  File \"c:\\users\\andre\\documents\\pythontutos\\oers\\venv\\lib\\site-packages\\pymysql\\connections.py\", line 718, in _write_bytes\n    \"MySQL server has gone away (%r)\" % (e,))\npymysql.err.OperationalError: (2006, \"MySQL server has gone away (ConnectionResetError(10054, 'Se ha forzado la interrupción de una conexión existente por el host remoto', None, 10054, None))\")\n",
      "Exception during reset or similar\nTraceback (most recent call last):\n  File \"c:\\users\\andre\\documents\\pythontutos\\oers\\venv\\lib\\site-packages\\pymysql\\connections.py\", line 713, in _write_bytes\n    self._sock.sendall(data)\nConnectionResetError: [WinError 10054] Se ha forzado la interrupción de una conexión existente por el host remoto\n\nDuring handling of the above exception, another exception occurred:\n\nTraceback (most recent call last):\n  File \"c:\\users\\andre\\documents\\pythontutos\\oers\\venv\\lib\\site-packages\\sqlalchemy\\pool\\base.py\", line 680, in _finalize_fairy\n    fairy._reset(pool)\n  File \"c:\\users\\andre\\documents\\pythontutos\\oers\\venv\\lib\\site-packages\\sqlalchemy\\pool\\base.py\", line 867, in _reset\n    pool._dialect.do_rollback(self)\n  File \"c:\\users\\andre\\documents\\pythontutos\\oers\\venv\\lib\\site-packages\\sqlalchemy\\dialects\\mysql\\base.py\", line 2251, in do_rollback\n    dbapi_connection.rollback()\n  File \"c:\\users\\andre\\documents\\pythontutos\\oers\\venv\\lib\\site-packages\\pymysql\\connections.py\", line 429, in rollback\n    self._execute_command(COMMAND.COM_QUERY, \"ROLLBACK\")\n  File \"c:\\users\\andre\\documents\\pythontutos\\oers\\venv\\lib\\site-packages\\pymysql\\connections.py\", line 771, in _execute_command\n    self._write_bytes(packet)\n  File \"c:\\users\\andre\\documents\\pythontutos\\oers\\venv\\lib\\site-packages\\pymysql\\connections.py\", line 718, in _write_bytes\n    \"MySQL server has gone away (%r)\" % (e,))\npymysql.err.OperationalError: (2006, \"MySQL server has gone away (ConnectionResetError(10054, 'Se ha forzado la interrupción de una conexión existente por el host remoto', None, 10054, None))\")\n"
     ],
     "output_type": "stream"
    },
    {
     "name": "stdout",
     "text": [
      "Done\n"
     ],
     "output_type": "stream"
    }
   ]
  }
 ],
 "metadata": {
  "language_info": {
   "codemirror_mode": {
    "name": "ipython",
    "version": 2
   },
   "file_extension": ".py",
   "mimetype": "text/x-python",
   "name": "python",
   "nbconvert_exporter": "python",
   "pygments_lexer": "ipython2",
   "version": "2.7.6"
  },
  "kernelspec": {
   "name": "python3",
   "language": "python",
   "display_name": "Python 3"
  },
  "pycharm": {
   "stem_cell": {
    "cell_type": "raw",
    "source": [],
    "metadata": {
     "collapsed": false
    }
   }
  }
 },
 "nbformat": 4,
 "nbformat_minor": 0
}